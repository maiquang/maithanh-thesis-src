{
 "cells": [
  {
   "cell_type": "code",
   "execution_count": 1,
   "metadata": {},
   "outputs": [],
   "source": [
    "import numpy as np\n",
    "import matplotlib.pylab as plt\n",
    "import sys\n",
    "sys.path.insert(0, '../src_KD/kf')\n",
    "from kf import KF\n",
    "from trajectory import trajectory\n",
    "np.set_printoptions(precision=2)"
   ]
  },
  {
   "cell_type": "markdown",
   "metadata": {},
   "source": [
    "# Cvičení 3: Sledování objektu ve 2D\n",
    "\n",
    "Cílem tohoto cvičení je filtrace polohy objektu pohybujícího se na ploše, tj. ve 2D. Cílem je odhadovat stavový vektor sestávající se z polohy v osách $x_1$ a $x_2$ a rychlostech v obou těchto osách.\n",
    "\n",
    "$$\n",
    "x_t =\n",
    "\\begin{bmatrix}\n",
    "x_{1,t} \\\\ \n",
    "x_{2,t} \\\\ \n",
    "v_{x_1,t} \\\\ \n",
    "v_{x_2,t}\n",
    "\\end{bmatrix}\n",
    "$$\n",
    "\n",
    "Víme, že pro polohu v první ose platí\n",
    "\n",
    "$$\n",
    "x_{1,t} = x_{1,t-1} + v_{x_1,t} dt + w_{x_1,t},\n",
    "$$\n",
    "\n",
    "a že analogicky platí totéž i pro polohu v ose druhé. Abychom se nemuseli zaobírat zrychlením, budeme uvažovat, že rychlost je stejná a její změny jsou způsobeny jen šumem,\n",
    "\n",
    "$$\n",
    "v_{x_1,t} = v_{x_1, t-1} + w_{vx_1, t}.\n",
    "$$\n",
    "\n",
    "Analogicky pro druhou složku rychlosti. K dispozici jsou jen měření polohy v obou osách a to v časovém kroku 0.1s.\n",
    "\n",
    "Potřebujeme tedy sestavit stavový model\n",
    "\n",
    "$$\n",
    "\\begin{aligned}\n",
    "x_t &\\sim \\mathcal{N}(Ax_{t-1} + Bu_t, Q),\\\\\n",
    "y_t &\\sim \\mathcal{N}(Hx_{t}, R).\n",
    "\\end{aligned}\n",
    "$$\n",
    "\n",
    "**Úkol 1: Sestavte stavový model a určete matice**\n",
    "\n",
    "Kovarianční matice nám musí někdo dodat, níže jsou uvedeny."
   ]
  },
  {
   "cell_type": "markdown",
   "metadata": {},
   "source": [
    "\\begin{align*}\n",
    "    A &=?\n",
    "%    \\begin{bmatrix}\n",
    "%       1 & 0 & dt & 0 \\\\\n",
    "%       0 & 1 & 0 & dt \\\\\n",
    "%       0 & 0 & 1 &  0 \\\\\n",
    "%       0 & 0 & 0 &  1 \n",
    "%    \\end{bmatrix},\n",
    "    \\quad\n",
    "    &Q &= q\\cdot\n",
    "    \\begin{bmatrix}\n",
    "        \\frac{dt^3}{3}    & 0                 & \\frac{dt^{2}}{2}  & 0  \\\\\n",
    "        0                 & \\frac{dt^3}{3}    & 0                 & \\frac{dt^{2}}{2} \\\\\n",
    "        \\frac{dt^{2}}{2}  & 0                 & dt                & 0 \\\\\n",
    "        0                 & \\frac{dt^{2}}{2}  & 0                 & dt\n",
    "    \\end{bmatrix}\n",
    "    \\notag \\\\\n",
    "    H &=?\n",
    "%    \\begin{bmatrix}\n",
    "%        1 & 0 &0 & 0 \\\\\n",
    "%        0 & 1 &0 & 0\n",
    "%    \\end{bmatrix}\n",
    "    \\quad\n",
    "    &R &=\n",
    "    r^{2}\\cdot\n",
    "    \\begin{bmatrix}\n",
    "        1 & 0 \\\\\n",
    "        0 & 1\n",
    "    \\end{bmatrix}\n",
    "\\end{align*}\n",
    "kde $dt = 0.1$, $q = 2$, $r=0.5$."
   ]
  },
  {
   "cell_type": "markdown",
   "metadata": {},
   "source": [
    "**Úkol 2: dodefinujte proměnné**"
   ]
  },
  {
   "cell_type": "code",
   "execution_count": 2,
   "metadata": {},
   "outputs": [
    {
     "ename": "SyntaxError",
     "evalue": "invalid syntax (<ipython-input-2-7d52a05e0f0c>, line 1)",
     "output_type": "error",
     "traceback": [
      "\u001b[1;36m  File \u001b[1;32m\"<ipython-input-2-7d52a05e0f0c>\"\u001b[1;36m, line \u001b[1;32m1\u001b[0m\n\u001b[1;33m    q =\u001b[0m\n\u001b[1;37m        ^\u001b[0m\n\u001b[1;31mSyntaxError\u001b[0m\u001b[1;31m:\u001b[0m invalid syntax\n"
     ]
    }
   ],
   "source": [
    "q = \n",
    "dt = \n",
    "r = \n",
    "A = \n",
    "Q = \n",
    "H = \n",
    "R = "
   ]
  },
  {
   "cell_type": "markdown",
   "metadata": {},
   "source": [
    "**Úkol 3: doplňte za `code` den a měsíc svého svátku. V objektu `traj` budete mít trajektorii o 100 řádcích, v každém je poloha v obou osách. Vykreslete ji křížky.**"
   ]
  },
  {
   "cell_type": "code",
   "execution_count": null,
   "metadata": {},
   "outputs": [],
   "source": [
    "code = \n",
    "traj = trajectory(code)\n",
    "plt.figure(figsize=(10, 10))\n",
    "plt.plot(XXXXXXXXX, '+')\n",
    "plt.axis('equal')\n",
    "plt.show()"
   ]
  },
  {
   "cell_type": "markdown",
   "metadata": {},
   "source": [
    "Kalmanův filtr je napsán jako třída KF. Tu si jednoduše pustíme, provede výpočty za vás. Předávají se jí jednotlivá měření polohy, tj. řádky v `traj.Y.T`"
   ]
  },
  {
   "cell_type": "code",
   "execution_count": null,
   "metadata": {},
   "outputs": [],
   "source": [
    "kf = KF(A=A, B=None, H=H, R=R, Q=Q)\n",
    "for yt in traj.Y.T:\n",
    "    kf.predict()\n",
    "    kf.update(yt)\n",
    "    kf.log()\n",
    "\n",
    "log_x = np.array(kf.log_x).T      # Zde najdeme odhad"
   ]
  },
  {
   "cell_type": "markdown",
   "metadata": {},
   "source": [
    "**Úkol 4: `log_x` má 4 řádky, v každém sloupci je jeden odhad stavu $x_{t}$. Vykreslete stejně jako výše naměřenou polohu a její filtrovaný odhad.**"
   ]
  },
  {
   "cell_type": "code",
   "execution_count": null,
   "metadata": {},
   "outputs": [],
   "source": [
    "plt.figure(figsize=(10,10))\n",
    "XXXXX\n",
    "XXXXX\n",
    "XXXXX\n",
    "plt.show()"
   ]
  },
  {
   "cell_type": "markdown",
   "metadata": {},
   "source": [
    "**Úkol 5: V odhadech najdete i odhady rychlosti. Vykreslete je jako 2 subploty vedle sebe.**"
   ]
  },
  {
   "cell_type": "code",
   "execution_count": null,
   "metadata": {},
   "outputs": [],
   "source": [
    "plt.figure(figsize=(10, 4))\n",
    "XXXXX\n",
    "XXXXX\n",
    "plt.show()"
   ]
  },
  {
   "cell_type": "markdown",
   "metadata": {},
   "source": [
    "**Úkol 6: `traj` má atribut X, tedy `traj.X`, což je matice o 4 řádcích, obsahující skutečné hodnoty polohy a rychlosti, které jsme se snažili Kalmanovým filtrem odhadnout. Doplňte je do obrázků černě.**"
   ]
  }
 ],
 "metadata": {
  "kernelspec": {
   "display_name": "Python 3",
   "language": "python",
   "name": "python3"
  },
  "language_info": {
   "codemirror_mode": {
    "name": "ipython",
    "version": 3
   },
   "file_extension": ".py",
   "mimetype": "text/x-python",
   "name": "python",
   "nbconvert_exporter": "python",
   "pygments_lexer": "ipython3",
   "version": "3.7.9"
  }
 },
 "nbformat": 4,
 "nbformat_minor": 4
}
