{
 "cells": [
  {
   "cell_type": "code",
   "execution_count": 5,
   "id": "492d5fd8-fcb5-4a7b-8ac6-837b1fce2c01",
   "metadata": {
    "execution": {
     "iopub.execute_input": "2021-06-23T23:21:41.839328Z",
     "iopub.status.busy": "2021-06-23T23:21:41.839002Z",
     "iopub.status.idle": "2021-06-23T23:21:41.847771Z",
     "shell.execute_reply": "2021-06-23T23:21:41.846551Z",
     "shell.execute_reply.started": "2021-06-23T23:21:41.839290Z"
    },
    "tags": []
   },
   "outputs": [],
   "source": [
    "import pickle\n",
    "from itertools import chain\n",
    "\n",
    "import numpy as np\n",
    "import pandas as pd\n",
    "import seaborn as sns\n",
    "from matplotlib import pyplot as plt\n",
    "\n",
    "from src.auxil import plot_estimates, plot_rmse, plot_traj, rmse, rmse_network\n",
    "from src.kalmanfilter import KalmanFilter\n",
    "from src.kfnet import KFNet\n",
    "from src.statespace import CAModel, CVModel, RWModel, StateSpace\n",
    "from src.trajectory import Trajectory\n",
    "\n",
    "sns.set_style(\"white\")"
   ]
  },
  {
   "cell_type": "code",
   "execution_count": 6,
   "id": "e3fdf347-0b52-48bf-8354-aa183ebeeabb",
   "metadata": {
    "execution": {
     "iopub.execute_input": "2021-06-23T23:21:41.850277Z",
     "iopub.status.busy": "2021-06-23T23:21:41.849958Z",
     "iopub.status.idle": "2021-06-23T23:21:41.876834Z",
     "shell.execute_reply": "2021-06-23T23:21:41.876184Z",
     "shell.execute_reply.started": "2021-06-23T23:21:41.850238Z"
    },
    "tags": []
   },
   "outputs": [],
   "source": [
    "%load_ext autoreload\n",
    "%autoreload 2"
   ]
  },
  {
   "cell_type": "code",
   "execution_count": 7,
   "id": "b3258ee0-1a12-4b48-b58b-7b3dc916ba7c",
   "metadata": {
    "execution": {
     "iopub.execute_input": "2021-06-23T23:21:41.878143Z",
     "iopub.status.busy": "2021-06-23T23:21:41.878012Z",
     "iopub.status.idle": "2021-06-23T23:21:41.890490Z",
     "shell.execute_reply": "2021-06-23T23:21:41.889895Z",
     "shell.execute_reply.started": "2021-06-23T23:21:41.878129Z"
    },
    "tags": []
   },
   "outputs": [],
   "source": [
    "# Simulation parameters\n",
    "RUNS = 1\n",
    "NETWORK_FILE = \"./networks/network_15_6.pkl\"\n",
    "FILEPATH_CSV = \"./sim_results/avg_rmse.csv\"\n",
    "RANDOM_SEED = None\n",
    "\n",
    "# Trajectory generator parameters\n",
    "ndat = 500\n",
    "q = 9.5e-5  # Process noise intensity\n",
    "r = 5  # Observation noise std\n",
    "TRAJ_MODEL = CAModel(q, r)\n",
    "INIT_STATE = np.zeros(6)\n",
    "\n",
    "# Additional filter parameters\n",
    "c_rwm = 15  # RWM process noise scaling constant\n",
    "c_cvm = 5\n",
    "expf = 0.95  # Exponential forgetting param\n",
    "reset_thresh = 5.0  # Filter reset threshold (Euclidean distance from centroid)"
   ]
  },
  {
   "cell_type": "code",
   "execution_count": 8,
   "id": "492e632c-312d-4694-a010-d79a37a29b40",
   "metadata": {
    "execution": {
     "iopub.execute_input": "2021-06-23T23:21:41.891502Z",
     "iopub.status.busy": "2021-06-23T23:21:41.891381Z",
     "iopub.status.idle": "2021-06-23T23:21:42.311110Z",
     "shell.execute_reply": "2021-06-23T23:21:42.310707Z",
     "shell.execute_reply.started": "2021-06-23T23:21:41.891489Z"
    },
    "tags": []
   },
   "outputs": [
    {
     "data": {
      "image/png": "[encoded data removed]",
      "text/plain": [
       "<Figure size 720x720 with 1 Axes>"
      ]
     },
     "metadata": {},
     "output_type": "display_data"
    }
   ],
   "source": [
    "# Generate a trajectory\n",
    "traj = Trajectory(\n",
    "    TRAJ_MODEL, n_steps=ndat, init_state=INIT_STATE, R=None, random_seed=RANDOM_SEED\n",
    ")\n",
    "\n",
    "plot_traj(traj)"
   ]
  },
  {
   "cell_type": "code",
   "execution_count": 9,
   "id": "4fc95123-f312-418a-b6c0-99d09ba829f7",
   "metadata": {
    "execution": {
     "iopub.execute_input": "2021-06-23T23:21:42.311737Z",
     "iopub.status.busy": "2021-06-23T23:21:42.311634Z",
     "iopub.status.idle": "2021-06-23T23:21:45.069334Z",
     "shell.execute_reply": "2021-06-23T23:21:45.068809Z",
     "shell.execute_reply.started": "2021-06-23T23:21:42.311721Z"
    },
    "tags": []
   },
   "outputs": [],
   "source": [
    "rmse_rwm1 = np.zeros((ndat, 2))\n",
    "rmse_rwm2 = np.zeros((ndat, 2))\n",
    "\n",
    "# No coop nodes\n",
    "rmse_rwmnc = np.zeros((ndat, 2))\n",
    "rmse_camnc = np.zeros((ndat, 2))\n",
    "rmse_cvmnc = np.zeros((ndat, 2))\n",
    "\n",
    "# Run simulations\n",
    "for i in range(RUNS):\n",
    "    # Initialize network\n",
    "    kfs = [\n",
    "        KalmanFilter(RWModel(20 * q, r), lambda_expf=expf),\n",
    "        KalmanFilter(CVModel(q, r)),\n",
    "        KalmanFilter(CVModel(q, r)),\n",
    "        KalmanFilter(CVModel(q, r)),\n",
    "        KalmanFilter(CVModel(q, r)),\n",
    "        KalmanFilter(CVModel(q, r)),\n",
    "        KalmanFilter(CVModel(q, r)),\n",
    "        KalmanFilter(CVModel(q, r)),\n",
    "        KalmanFilter(CVModel(q, r)),\n",
    "        KalmanFilter(CAModel(q, r)),\n",
    "        KalmanFilter(CAModel(q, r)),\n",
    "        KalmanFilter(RWModel(c_rwm * q, r), lambda_expf=expf),\n",
    "        KalmanFilter(CAModel(q, r)),\n",
    "        KalmanFilter(CAModel(q, r)),\n",
    "        KalmanFilter(CAModel(q, r)),\n",
    "    ]\n",
    "\n",
    "    ###\n",
    "    rwmnc = KalmanFilter(RWModel(c_rwm * q, r), lambda_expf=expf)\n",
    "    cvmnc = KalmanFilter(CVModel(q, r))\n",
    "    camnc = KalmanFilter(CAModel(q, r))\n",
    "\n",
    "    # Load network topology file\n",
    "    kfn = None\n",
    "    with open(NETWORK_FILE, \"rb\") as f:\n",
    "        kfn = pickle.load(f)\n",
    "    kfn.assign(init=kfs)\n",
    "    kfn.generate_txt_labels()\n",
    "\n",
    "    # Add observation noise for each node\n",
    "    # traj.simulate(ndat, INIT_STATE)\n",
    "    R = kfn.observation_covs()\n",
    "    traj.add_obs_noise(R)\n",
    "\n",
    "    # Run estimation\n",
    "    for yt in traj.observations:\n",
    "        kfn.time_step(\n",
    "            yt,\n",
    "            predict=True,\n",
    "            update=True,\n",
    "            adapt=True,\n",
    "            combine=True,\n",
    "            reset_strategy=\"mean\",\n",
    "            reset_thresh=reset_thresh,\n",
    "            c=0.95,\n",
    "        )\n",
    "\n",
    "        rwmnc.predict()\n",
    "        rwmnc.update(yt[0], log=True)\n",
    "\n",
    "        cvmnc.predict()\n",
    "        cvmnc.update(yt[5], log=True)\n",
    "\n",
    "        camnc.predict()\n",
    "        camnc.update(yt[4], log=True)\n",
    "\n",
    "    # Save results\n",
    "    RWM_1 = kfs[0]\n",
    "    RWM_2 = kfs[11]\n",
    "\n",
    "    rmse_rwm1 += rmse(traj.X[:, :2], RWM_1.history[:, :2], n=ndat)\n",
    "    rmse_rwm2 += rmse(traj.X[:, :2], RWM_2.history[:, :2], n=ndat)\n",
    "\n",
    "    rmse_rwmnc += rmse(traj.X[:, :2], rwmnc.history[:, :2], n=ndat)\n",
    "    rmse_cvmnc += rmse(traj.X[:, :2], cvmnc.history[:, :2], n=ndat)\n",
    "    rmse_camnc += rmse(traj.X[:, :2], camnc.history[:, :2], n=ndat)"
   ]
  },
  {
   "cell_type": "code",
   "execution_count": 10,
   "id": "d41ffc0f-3e1e-4ec4-9e98-c00a70d72608",
   "metadata": {
    "execution": {
     "iopub.execute_input": "2021-06-23T23:21:45.070176Z",
     "iopub.status.busy": "2021-06-23T23:21:45.069980Z",
     "iopub.status.idle": "2021-06-23T23:21:45.081008Z",
     "shell.execute_reply": "2021-06-23T23:21:45.079997Z",
     "shell.execute_reply.started": "2021-06-23T23:21:45.070160Z"
    },
    "tags": []
   },
   "outputs": [],
   "source": [
    "# kfn.draw_network()"
   ]
  },
  {
   "cell_type": "code",
   "execution_count": 11,
   "id": "39beae74-85ef-4039-8cd9-db55a8126d25",
   "metadata": {
    "execution": {
     "iopub.execute_input": "2021-06-23T23:21:45.081986Z",
     "iopub.status.busy": "2021-06-23T23:21:45.081857Z",
     "iopub.status.idle": "2021-06-23T23:21:45.092773Z",
     "shell.execute_reply": "2021-06-23T23:21:45.092281Z",
     "shell.execute_reply.started": "2021-06-23T23:21:45.081972Z"
    },
    "tags": []
   },
   "outputs": [],
   "source": [
    "# Average the results\n",
    "rmse_rwm1 /= RUNS\n",
    "rmse_rwm2 /= RUNS\n",
    "\n",
    "rmse_rwmnc /= RUNS\n",
    "rmse_cvmnc /= RUNS\n",
    "rmse_camnc /= RUNS"
   ]
  },
  {
   "cell_type": "code",
   "execution_count": 12,
   "id": "bdb7ff73-5786-445c-ab82-943258fafd92",
   "metadata": {
    "execution": {
     "iopub.execute_input": "2021-06-23T23:21:45.094187Z",
     "iopub.status.busy": "2021-06-23T23:21:45.093939Z",
     "iopub.status.idle": "2021-06-23T23:21:45.431676Z",
     "shell.execute_reply": "2021-06-23T23:21:45.431228Z",
     "shell.execute_reply.started": "2021-06-23T23:21:45.094137Z"
    },
    "tags": []
   },
   "outputs": [
    {
     "data": {
      "image/png": "[encoded data removed]",
      "text/plain": [
       "<Figure size 720x504 with 1 Axes>"
      ]
     },
     "metadata": {},
     "output_type": "display_data"
    }
   ],
   "source": [
    "plt.figure(figsize=(10, 7))\n",
    "plt.plot(rmse_rwm1[:, 0], label=\"RWM1\")\n",
    "plt.plot(rmse_rwm2[:, 0], label=\"RWM2\")\n",
    "\n",
    "plt.plot(rmse_rwmnc[:, 0], label=\"RWMiso\")\n",
    "plt.plot(rmse_cvmnc[:, 0], label=\"CVMiso\")\n",
    "plt.plot(rmse_camnc[:, 0], label=\"CAMiso\")\n",
    "\n",
    "plt.yscale(\"log\", base=10)\n",
    "plt.legend()\n",
    "plt.show()"
   ]
  },
  {
   "cell_type": "code",
   "execution_count": 13,
   "id": "2298a1f9-a9ae-4d48-b2db-9c071d9101a8",
   "metadata": {
    "execution": {
     "iopub.execute_input": "2021-06-23T23:21:45.432628Z",
     "iopub.status.busy": "2021-06-23T23:21:45.432446Z",
     "iopub.status.idle": "2021-06-23T23:21:45.830527Z",
     "shell.execute_reply": "2021-06-23T23:21:45.829689Z",
     "shell.execute_reply.started": "2021-06-23T23:21:45.432599Z"
    }
   },
   "outputs": [
    {
     "data": {
      "image/png": "[encoded data removed]",
      "text/plain": [
       "<Figure size 720x504 with 1 Axes>"
      ]
     },
     "metadata": {},
     "output_type": "display_data"
    }
   ],
   "source": [
    "plt.figure(figsize=(10, 7))\n",
    "plt.plot(rmse_rwm1[:, 1], label=\"RWM1\")\n",
    "plt.plot(rmse_rwm2[:, 1], label=\"RWM2\")\n",
    "\n",
    "plt.plot(rmse_rwmnc[:, 1], label=\"RWMiso\")\n",
    "plt.plot(rmse_cvmnc[:, 1], label=\"CVMiso\")\n",
    "plt.plot(rmse_camnc[:, 1], label=\"CAMiso\")\n",
    "\n",
    "plt.yscale(\"log\", base=10)\n",
    "plt.legend()\n",
    "plt.show()"
   ]
  },
  {
   "cell_type": "code",
   "execution_count": 14,
   "id": "0597f089-3adf-4be2-a2a8-182b069e6df1",
   "metadata": {
    "execution": {
     "iopub.execute_input": "2021-06-23T23:21:45.831529Z",
     "iopub.status.busy": "2021-06-23T23:21:45.831398Z",
     "iopub.status.idle": "2021-06-23T23:21:45.847512Z",
     "shell.execute_reply": "2021-06-23T23:21:45.846898Z",
     "shell.execute_reply.started": "2021-06-23T23:21:45.831515Z"
    },
    "tags": []
   },
   "outputs": [],
   "source": [
    "# CSV column labels\n",
    "cols = []\n",
    "for n in chain(kfn._txt_labels, [\"RWM_NC\", \"CVM_NC\", \"CAM_NC\"]):\n",
    "    for x in (\"x1\", \"x2\"):\n",
    "        cols.append(n + \"_\" + x)\n",
    "\n",
    "data = rmse_network(kfn, traj, ndat, 2, rwmnc, cvmnc, camnc)"
   ]
  },
  {
   "cell_type": "code",
   "execution_count": 15,
   "id": "5fd7576c-7fb7-42e3-87e3-412fc8bb4431",
   "metadata": {
    "execution": {
     "iopub.execute_input": "2021-06-23T23:21:45.848481Z",
     "iopub.status.busy": "2021-06-23T23:21:45.848174Z",
     "iopub.status.idle": "2021-06-23T23:21:45.876044Z",
     "shell.execute_reply": "2021-06-23T23:21:45.875394Z",
     "shell.execute_reply.started": "2021-06-23T23:21:45.848439Z"
    },
    "tags": []
   },
   "outputs": [
    {
     "data": {
      "text/html": [
       "<div>\n",
       "<style scoped>\n",
       "    .dataframe tbody tr th:only-of-type {\n",
       "        vertical-align: middle;\n",
       "    }\n",
       "\n",
       "    .dataframe tbody tr th {\n",
       "        vertical-align: top;\n",
       "    }\n",
       "\n",
       "    .dataframe thead th {\n",
       "        text-align: right;\n",
       "    }\n",
       "</style>\n",
       "<table border=\"1\" class=\"dataframe\">\n",
       "  <thead>\n",
       "    <tr style=\"text-align: right;\">\n",
       "      <th></th>\n",
       "      <th>RWM_1_x1</th>\n",
       "      <th>RWM_1_x2</th>\n",
       "      <th>CVM_1_x1</th>\n",
       "      <th>CVM_1_x2</th>\n",
       "      <th>CVM_2_x1</th>\n",
       "      <th>CVM_2_x2</th>\n",
       "      <th>CVM_3_x1</th>\n",
       "      <th>CVM_3_x2</th>\n",
       "      <th>CVM_4_x1</th>\n",
       "      <th>CVM_4_x2</th>\n",
       "      <th>...</th>\n",
       "      <th>CAM_4_x1</th>\n",
       "      <th>CAM_4_x2</th>\n",
       "      <th>CAM_5_x1</th>\n",
       "      <th>CAM_5_x2</th>\n",
       "      <th>RWM_NC_x1</th>\n",
       "      <th>RWM_NC_x2</th>\n",
       "      <th>CVM_NC_x1</th>\n",
       "      <th>CVM_NC_x2</th>\n",
       "      <th>CAM_NC_x1</th>\n",
       "      <th>CAM_NC_x2</th>\n",
       "    </tr>\n",
       "  </thead>\n",
       "  <tbody>\n",
       "    <tr>\n",
       "      <th>0</th>\n",
       "      <td>1.743432</td>\n",
       "      <td>0.419538</td>\n",
       "      <td>1.361237</td>\n",
       "      <td>0.156021</td>\n",
       "      <td>1.558899</td>\n",
       "      <td>0.055767</td>\n",
       "      <td>1.470799</td>\n",
       "      <td>0.198918</td>\n",
       "      <td>1.836512</td>\n",
       "      <td>0.094639</td>\n",
       "      <td>...</td>\n",
       "      <td>1.385439</td>\n",
       "      <td>0.653231</td>\n",
       "      <td>1.168858</td>\n",
       "      <td>0.790878</td>\n",
       "      <td>1.177056</td>\n",
       "      <td>2.459391</td>\n",
       "      <td>4.905484</td>\n",
       "      <td>3.863076</td>\n",
       "      <td>4.226825</td>\n",
       "      <td>1.102567</td>\n",
       "    </tr>\n",
       "    <tr>\n",
       "      <th>1</th>\n",
       "      <td>1.255229</td>\n",
       "      <td>0.301135</td>\n",
       "      <td>0.985363</td>\n",
       "      <td>0.301350</td>\n",
       "      <td>1.218289</td>\n",
       "      <td>0.154383</td>\n",
       "      <td>1.082516</td>\n",
       "      <td>0.159455</td>\n",
       "      <td>1.305681</td>\n",
       "      <td>0.073311</td>\n",
       "      <td>...</td>\n",
       "      <td>1.100520</td>\n",
       "      <td>0.841540</td>\n",
       "      <td>1.050805</td>\n",
       "      <td>1.015461</td>\n",
       "      <td>2.566537</td>\n",
       "      <td>1.929733</td>\n",
       "      <td>4.046448</td>\n",
       "      <td>6.178544</td>\n",
       "      <td>4.103924</td>\n",
       "      <td>2.849977</td>\n",
       "    </tr>\n",
       "    <tr>\n",
       "      <th>2</th>\n",
       "      <td>1.209835</td>\n",
       "      <td>0.612800</td>\n",
       "      <td>1.163789</td>\n",
       "      <td>0.390794</td>\n",
       "      <td>1.275100</td>\n",
       "      <td>0.635056</td>\n",
       "      <td>1.309675</td>\n",
       "      <td>0.524134</td>\n",
       "      <td>1.556244</td>\n",
       "      <td>0.153225</td>\n",
       "      <td>...</td>\n",
       "      <td>1.432806</td>\n",
       "      <td>1.060134</td>\n",
       "      <td>1.071355</td>\n",
       "      <td>1.639683</td>\n",
       "      <td>2.363865</td>\n",
       "      <td>1.644472</td>\n",
       "      <td>3.305207</td>\n",
       "      <td>5.047550</td>\n",
       "      <td>3.359024</td>\n",
       "      <td>3.815191</td>\n",
       "    </tr>\n",
       "    <tr>\n",
       "      <th>3</th>\n",
       "      <td>1.095186</td>\n",
       "      <td>0.551278</td>\n",
       "      <td>1.117339</td>\n",
       "      <td>0.735373</td>\n",
       "      <td>1.173580</td>\n",
       "      <td>0.682847</td>\n",
       "      <td>1.207461</td>\n",
       "      <td>0.696185</td>\n",
       "      <td>1.492046</td>\n",
       "      <td>0.633916</td>\n",
       "      <td>...</td>\n",
       "      <td>1.289364</td>\n",
       "      <td>0.919534</td>\n",
       "      <td>0.937672</td>\n",
       "      <td>1.453572</td>\n",
       "      <td>2.415291</td>\n",
       "      <td>1.429430</td>\n",
       "      <td>3.124733</td>\n",
       "      <td>4.480972</td>\n",
       "      <td>3.081248</td>\n",
       "      <td>4.953324</td>\n",
       "    </tr>\n",
       "    <tr>\n",
       "      <th>4</th>\n",
       "      <td>1.025189</td>\n",
       "      <td>0.738614</td>\n",
       "      <td>1.055824</td>\n",
       "      <td>1.085934</td>\n",
       "      <td>1.163632</td>\n",
       "      <td>1.050577</td>\n",
       "      <td>1.234676</td>\n",
       "      <td>1.039679</td>\n",
       "      <td>1.483268</td>\n",
       "      <td>0.966009</td>\n",
       "      <td>...</td>\n",
       "      <td>1.202427</td>\n",
       "      <td>1.826615</td>\n",
       "      <td>0.839326</td>\n",
       "      <td>2.124391</td>\n",
       "      <td>2.943084</td>\n",
       "      <td>1.278522</td>\n",
       "      <td>2.841290</td>\n",
       "      <td>4.025604</td>\n",
       "      <td>4.662094</td>\n",
       "      <td>4.456487</td>\n",
       "    </tr>\n",
       "  </tbody>\n",
       "</table>\n",
       "<p>5 rows × 36 columns</p>\n",
       "</div>"
      ],
      "text/plain": [
       "   RWM_1_x1  RWM_1_x2  CVM_1_x1  CVM_1_x2  CVM_2_x1  CVM_2_x2  CVM_3_x1  \\\n",
       "0  1.743432  0.419538  1.361237  0.156021  1.558899  0.055767  1.470799   \n",
       "1  1.255229  0.301135  0.985363  0.301350  1.218289  0.154383  1.082516   \n",
       "2  1.209835  0.612800  1.163789  0.390794  1.275100  0.635056  1.309675   \n",
       "3  1.095186  0.551278  1.117339  0.735373  1.173580  0.682847  1.207461   \n",
       "4  1.025189  0.738614  1.055824  1.085934  1.163632  1.050577  1.234676   \n",
       "\n",
       "   CVM_3_x2  CVM_4_x1  CVM_4_x2  ...  CAM_4_x1  CAM_4_x2  CAM_5_x1  CAM_5_x2  \\\n",
       "0  0.198918  1.836512  0.094639  ...  1.385439  0.653231  1.168858  0.790878   \n",
       "1  0.159455  1.305681  0.073311  ...  1.100520  0.841540  1.050805  1.015461   \n",
       "2  0.524134  1.556244  0.153225  ...  1.432806  1.060134  1.071355  1.639683   \n",
       "3  0.696185  1.492046  0.633916  ...  1.289364  0.919534  0.937672  1.453572   \n",
       "4  1.039679  1.483268  0.966009  ...  1.202427  1.826615  0.839326  2.124391   \n",
       "\n",
       "   RWM_NC_x1  RWM_NC_x2  CVM_NC_x1  CVM_NC_x2  CAM_NC_x1  CAM_NC_x2  \n",
       "0   1.177056   2.459391   4.905484   3.863076   4.226825   1.102567  \n",
       "1   2.566537   1.929733   4.046448   6.178544   4.103924   2.849977  \n",
       "2   2.363865   1.644472   3.305207   5.047550   3.359024   3.815191  \n",
       "3   2.415291   1.429430   3.124733   4.480972   3.081248   4.953324  \n",
       "4   2.943084   1.278522   2.841290   4.025604   4.662094   4.456487  \n",
       "\n",
       "[5 rows x 36 columns]"
      ]
     },
     "execution_count": 15,
     "metadata": {},
     "output_type": "execute_result"
    }
   ],
   "source": [
    "# Generate CSV files\n",
    "df = pd.DataFrame(data=data, columns=cols)\n",
    "# df.to_csv(FILEPATH_CSV, index_label=\"t\")\n",
    "df.head()"
   ]
  },
  {
   "cell_type": "code",
   "execution_count": null,
   "id": "3fb8285d-1ba9-42d9-9321-15b5a3abf5d8",
   "metadata": {},
   "outputs": [],
   "source": [
    "# import networkx as nx\n",
    "# from network2tikz import plot\n",
    "\n",
    "# G = nx.from_numpy_matrix(kfn.adj_mat)\n",
    "# pos = nx.spring_layout(G)\n",
    "# nx.draw(G, pos)\n",
    "# # plot(G, \"mytikz.tex\", layout=pos)\n",
    "\n",
    "# style = {}\n",
    "# # style[\"node_label\"] = kfn._txt_labels\n",
    "# style[\"edge_width\"] = [0.5 for i in range(46)]\n",
    "# style[\"node_color\"] = [\n",
    "#     \"red\",\n",
    "#     \"green\",\n",
    "#     \"green\",\n",
    "#     \"blue\",\n",
    "#     \"blue\",\n",
    "#     \"blue\",\n",
    "#     \"green\",\n",
    "#     \"green\",\n",
    "#     \"green\",\n",
    "#     \"blue\",\n",
    "#     \"green\",\n",
    "#     \"green\",\n",
    "#     \"red\",\n",
    "#     \"green\",\n",
    "#     \"green\",\n",
    "# ]\n",
    "\n",
    "# plot(\n",
    "#     G,\n",
    "#     \"mytikz.tex\",\n",
    "#     layout=\"FR\",\n",
    "#     iterations=100,\n",
    "#     force=45,\n",
    "#     keep_aspect_ratio=False,\n",
    "#     canvas=(11.5, 6),\n",
    "#     **style,\n",
    "# )"
   ]
  }
 ],
 "metadata": {
  "kernelspec": {
   "display_name": "Python [conda env:DP]",
   "language": "python",
   "name": "conda-env-DP-py"
  },
  "language_info": {
   "codemirror_mode": {
    "name": "ipython",
    "version": 3
   },
   "file_extension": ".py",
   "mimetype": "text/x-python",
   "name": "python",
   "nbconvert_exporter": "python",
   "pygments_lexer": "ipython3",
   "version": "3.8.10"
  }
 },
 "nbformat": 4,
 "nbformat_minor": 5
}
